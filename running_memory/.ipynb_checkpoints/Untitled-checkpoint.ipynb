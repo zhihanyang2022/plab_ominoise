{
 "cells": [
  {
   "cell_type": "markdown",
   "metadata": {},
   "source": [
    "# PsycoPy Demos"
   ]
  },
  {
   "cell_type": "code",
   "execution_count": 289,
   "metadata": {
    "ExecuteTime": {
     "end_time": "2020-02-13T20:11:38.341859Z",
     "start_time": "2020-02-13T20:11:38.330871Z"
    }
   },
   "outputs": [],
   "source": [
    "from psychopy import core, visual, logging\n",
    "import time\n",
    "import numpy as np"
   ]
  },
  {
   "cell_type": "markdown",
   "metadata": {},
   "source": [
    "## core.MonotonicClock vs core.monotonicClock"
   ]
  },
  {
   "cell_type": "markdown",
   "metadata": {},
   "source": [
    "<img src='./pngs/core.MonotonicClock.png' width=600>"
   ]
  },
  {
   "cell_type": "code",
   "execution_count": 290,
   "metadata": {
    "ExecuteTime": {
     "end_time": "2020-02-13T20:11:42.237101Z",
     "start_time": "2020-02-13T20:11:42.228113Z"
    }
   },
   "outputs": [
    {
     "data": {
      "text/plain": [
       "3404.394955415"
      ]
     },
     "execution_count": 290,
     "metadata": {},
     "output_type": "execute_result"
    }
   ],
   "source": [
    "core.monotonicClock.getLastResetTime()  # has to be larger than system uptime"
   ]
  },
  {
   "cell_type": "markdown",
   "metadata": {},
   "source": [
    "## core.Clock"
   ]
  },
  {
   "cell_type": "code",
   "execution_count": 291,
   "metadata": {
    "ExecuteTime": {
     "end_time": "2020-02-13T20:11:56.461154Z",
     "start_time": "2020-02-13T20:11:53.451538Z"
    }
   },
   "outputs": [
    {
     "name": "stdout",
     "output_type": "stream",
     "text": [
      "PsychoPy Clock Time : -3.9986374899999646\n",
      "Time Clock Time: 1.0016119480133057\n",
      "==========\n",
      "PsychoPy Clock Time : -2.9971483669996815\n",
      "Time Clock Time: 2.003065824508667\n",
      "==========\n",
      "PsychoPy Clock Time : -1.9959515249993274\n",
      "Time Clock Time: 3.0043280124664307\n",
      "==========\n"
     ]
    }
   ],
   "source": [
    "myclock = core.Clock()\n",
    "start = time.time()\n",
    "myclock.reset(5)  # add 5 seconds to the clock's start time\n",
    "for i in range(3):\n",
    "    time.sleep(1)\n",
    "    print(f'PsychoPy Clock Time : {myclock.getTime()}')\n",
    "    print(f'Time Clock Time: {time.time() - start}')\n",
    "    print('==========')"
   ]
  },
  {
   "cell_type": "markdown",
   "metadata": {},
   "source": [
    "## core.CountdownTimer"
   ]
  },
  {
   "cell_type": "code",
   "execution_count": 292,
   "metadata": {
    "ExecuteTime": {
     "end_time": "2020-02-13T20:12:15.496313Z",
     "start_time": "2020-02-13T20:12:10.485297Z"
    }
   },
   "outputs": [
    {
     "name": "stdout",
     "output_type": "stream",
     "text": [
      "Still going...\n",
      "Still going...\n",
      "Still going...\n",
      "Still going...\n",
      "Still going...\n"
     ]
    }
   ],
   "source": [
    "countdown_timer = core.CountdownTimer(5)\n",
    "while countdown_timer.getTime() > 0:\n",
    "    time.sleep(1)\n",
    "    print('Still going...')"
   ]
  },
  {
   "cell_type": "markdown",
   "metadata": {},
   "source": [
    "## visual.Window"
   ]
  },
  {
   "cell_type": "code",
   "execution_count": 293,
   "metadata": {
    "ExecuteTime": {
     "end_time": "2020-02-13T20:12:18.267281Z",
     "start_time": "2020-02-13T20:12:17.873504Z"
    }
   },
   "outputs": [],
   "source": [
    "win = visual.Window(\n",
    "    size=(800, 600), \n",
    "    pos=None, \n",
    "    color=(0, 0, 0), \n",
    "    colorSpace='rgb', \n",
    "    rgb=None, \n",
    "    dkl=None, \n",
    "    lms=None, \n",
    "    fullscr=None, \n",
    "    allowGUI=None,\n",
    "    monitor=None, \n",
    "    bitsMode=None, \n",
    "    winType=None, \n",
    "    units=None, \n",
    "    gamma=None, \n",
    "    blendMode='avg', \n",
    "    screen=0, \n",
    "    viewScale=None, \n",
    "    viewPos=None, \n",
    "    viewOri=0.0, \n",
    "    waitBlanking=True, \n",
    "    allowStencil=False, \n",
    "    multiSample=False, \n",
    "    numSamples=2, \n",
    "    stereo=False, \n",
    "    name='window1', \n",
    "    checkTiming=True, \n",
    "    useFBO=False, \n",
    "    useRetina=True, \n",
    "    autoLog=True, \n",
    "    gammaErrorPolicy='raise', \n",
    "    bpc=(8, 8, 8), \n",
    "    depthBits=8, \n",
    "    stencilBits=8\n",
    ")"
   ]
  },
  {
   "cell_type": "markdown",
   "metadata": {},
   "source": [
    "### win.getActualFrameRate"
   ]
  },
  {
   "cell_type": "markdown",
   "metadata": {},
   "source": [
    "<img src='./pngs/win.getActualFrameRate.png' width=600>"
   ]
  },
  {
   "cell_type": "code",
   "execution_count": 300,
   "metadata": {
    "ExecuteTime": {
     "end_time": "2020-02-13T20:12:43.659833Z",
     "start_time": "2020-02-13T20:12:43.505642Z"
    }
   },
   "outputs": [
    {
     "data": {
      "text/plain": [
       "887.2231175617787"
      ]
     },
     "execution_count": 300,
     "metadata": {},
     "output_type": "execute_result"
    }
   ],
   "source": [
    "win.getActualFrameRate(nIdentical=10, nMaxFrames=100, nWarmUpFrames=100)"
   ]
  },
  {
   "cell_type": "markdown",
   "metadata": {},
   "source": [
    "### win.getFutureFlipTime - when is the next screen flip? (multiple metrics allowed)"
   ]
  },
  {
   "cell_type": "markdown",
   "metadata": {},
   "source": [
    "<img src='./pngs/win.getFutureFlipTime.png' width=600>"
   ]
  },
  {
   "cell_type": "markdown",
   "metadata": {},
   "source": [
    "Implementation:"
   ]
  },
  {
   "cell_type": "code",
   "execution_count": 301,
   "metadata": {
    "ExecuteTime": {
     "end_time": "2020-02-13T20:12:52.004113Z",
     "start_time": "2020-02-13T20:12:51.999685Z"
    }
   },
   "outputs": [
    {
     "name": "stdout",
     "output_type": "stream",
     "text": [
      "5485.270548007\n"
     ]
    }
   ],
   "source": [
    "lastFlip = win._frameTimes[-1]  # with respect to baseClock\n",
    "print(lastFlip)"
   ]
  },
  {
   "cell_type": "code",
   "execution_count": 302,
   "metadata": {
    "ExecuteTime": {
     "end_time": "2020-02-13T20:12:52.189863Z",
     "start_time": "2020-02-13T20:12:52.179096Z"
    }
   },
   "outputs": [
    {
     "data": {
      "text/plain": [
       "0.0011105337000117288"
      ]
     },
     "execution_count": 302,
     "metadata": {},
     "output_type": "execute_result"
    }
   ],
   "source": [
    "win.monitorFramePeriod  # 1 / frame_rate"
   ]
  },
  {
   "cell_type": "code",
   "execution_count": 303,
   "metadata": {
    "ExecuteTime": {
     "end_time": "2020-02-13T20:12:52.328913Z",
     "start_time": "2020-02-13T20:12:52.324082Z"
    }
   },
   "outputs": [
    {
     "name": "stdout",
     "output_type": "stream",
     "text": [
      "5485.2716585407\n"
     ]
    }
   ],
   "source": [
    "timeNext = lastFlip + win.monitorFramePeriod\n",
    "print(timeNext)"
   ]
  },
  {
   "cell_type": "code",
   "execution_count": 304,
   "metadata": {
    "ExecuteTime": {
     "end_time": "2020-02-13T20:12:52.474025Z",
     "start_time": "2020-02-13T20:12:52.471360Z"
    }
   },
   "outputs": [],
   "source": [
    "thisT = timeNext"
   ]
  },
  {
   "cell_type": "code",
   "execution_count": 305,
   "metadata": {
    "ExecuteTime": {
     "end_time": "2020-02-13T20:12:52.623027Z",
     "start_time": "2020-02-13T20:12:52.619793Z"
    }
   },
   "outputs": [],
   "source": [
    "targetTime = 0\n",
    "now = baseClock.getTime()"
   ]
  },
  {
   "cell_type": "code",
   "execution_count": 306,
   "metadata": {
    "ExecuteTime": {
     "end_time": "2020-02-13T20:12:52.764385Z",
     "start_time": "2020-02-13T20:12:52.757368Z"
    }
   },
   "outputs": [
    {
     "name": "stdout",
     "output_type": "stream",
     "text": [
      "5494.235886567194\n"
     ]
    }
   ],
   "source": [
    "if (now + targetTime) > timeNext:  # target is more than 1 frame in future\n",
    "    extraFrames = np.ceil((now + targetTime - timeNext)/win.monitorFramePeriod)\n",
    "    thisT = timeNext + extraFrames*win.monitorFramePeriod\n",
    "print(thisT)"
   ]
  },
  {
   "cell_type": "code",
   "execution_count": 307,
   "metadata": {
    "ExecuteTime": {
     "end_time": "2020-02-13T20:12:52.923981Z",
     "start_time": "2020-02-13T20:12:52.910365Z"
    }
   },
   "outputs": [
    {
     "name": "stdout",
     "output_type": "stream",
     "text": [
      "5494.5279569302975\n",
      "8898.922912345297\n",
      "6.996829779382097e-05\n",
      "54.46064454599764\n",
      "5494.533167157\n"
     ]
    }
   ],
   "source": [
    "print(win.getFutureFlipTime(clock=None))  # or print(win.getFutureFlipTime()), thisT\n",
    "print(win.getFutureFlipTime(clock='ptb'))  # thisT + baseClock.getLastResetTime()\n",
    "print(win.getFutureFlipTime(clock='now'))  # thisT - now\n",
    "print(win.getFutureFlipTime(clock=myclock))  # thisT + baseClock.getLastResetTime() - clock.getLastResetTime()\n",
    "print(win.flip())  # the same as thisT"
   ]
  },
  {
   "cell_type": "code",
   "execution_count": 274,
   "metadata": {
    "ExecuteTime": {
     "end_time": "2020-02-13T17:34:50.489556Z",
     "start_time": "2020-02-13T17:34:50.486102Z"
    }
   },
   "outputs": [],
   "source": [
    "baseClock = logging.defaultClock"
   ]
  },
  {
   "cell_type": "code",
   "execution_count": 223,
   "metadata": {
    "ExecuteTime": {
     "end_time": "2020-02-13T17:30:03.718168Z",
     "start_time": "2020-02-13T17:30:03.709983Z"
    }
   },
   "outputs": [
    {
     "data": {
      "text/plain": [
       "3404.394955415"
      ]
     },
     "execution_count": 223,
     "metadata": {},
     "output_type": "execute_result"
    }
   ],
   "source": [
    "baseClock.getLastResetTime()"
   ]
  },
  {
   "cell_type": "markdown",
   "metadata": {},
   "source": [
    "### win.timeOnFlip"
   ]
  },
  {
   "cell_type": "markdown",
   "metadata": {},
   "source": [
    "<img src='./pngs/win.timeOnFlip.png' width=600>"
   ]
  },
  {
   "cell_type": "code",
   "execution_count": 286,
   "metadata": {
    "ExecuteTime": {
     "end_time": "2020-02-13T17:39:54.771010Z",
     "start_time": "2020-02-13T17:39:54.767038Z"
    }
   },
   "outputs": [],
   "source": [
    "myTimingDict = {'tStartRefresh':0.}"
   ]
  },
  {
   "cell_type": "code",
   "execution_count": 287,
   "metadata": {
    "ExecuteTime": {
     "end_time": "2020-02-13T17:39:55.665464Z",
     "start_time": "2020-02-13T17:39:55.655229Z"
    }
   },
   "outputs": [
    {
     "data": {
      "text/plain": [
       "3884.0334791339997"
      ]
     },
     "execution_count": 287,
     "metadata": {},
     "output_type": "execute_result"
    }
   ],
   "source": [
    "win.timeOnFlip(myTimingDict, 'tStartRefresh')\n",
    "win.flip()"
   ]
  },
  {
   "cell_type": "code",
   "execution_count": 288,
   "metadata": {
    "ExecuteTime": {
     "end_time": "2020-02-13T17:39:56.903053Z",
     "start_time": "2020-02-13T17:39:56.897988Z"
    }
   },
   "outputs": [
    {
     "data": {
      "text/plain": [
       "{'tStartRefresh': 3884.0334791339997}"
      ]
     },
     "execution_count": 288,
     "metadata": {},
     "output_type": "execute_result"
    }
   ],
   "source": [
    "myTimingDict"
   ]
  },
  {
   "cell_type": "code",
   "execution_count": 169,
   "metadata": {
    "ExecuteTime": {
     "end_time": "2020-02-13T17:10:56.589927Z",
     "start_time": "2020-02-13T17:10:56.582146Z"
    }
   },
   "outputs": [],
   "source": [
    "win.flip?"
   ]
  },
  {
   "cell_type": "markdown",
   "metadata": {},
   "source": [
    "### win.callOnFlip"
   ]
  },
  {
   "cell_type": "markdown",
   "metadata": {},
   "source": [
    "<img src='./pngs/win.callOnFlip.png' width=600>"
   ]
  },
  {
   "cell_type": "code",
   "execution_count": 167,
   "metadata": {
    "ExecuteTime": {
     "end_time": "2020-02-13T17:10:45.609664Z",
     "start_time": "2020-02-13T17:10:45.606102Z"
    }
   },
   "outputs": [],
   "source": [
    "def print_string(string):\n",
    "    print(string)"
   ]
  },
  {
   "cell_type": "code",
   "execution_count": 279,
   "metadata": {
    "ExecuteTime": {
     "end_time": "2020-02-13T17:36:17.179568Z",
     "start_time": "2020-02-13T17:36:17.170544Z"
    }
   },
   "outputs": [
    {
     "name": "stdout",
     "output_type": "stream",
     "text": [
      "Helloword\n"
     ]
    },
    {
     "data": {
      "text/plain": [
       "3665.546925002"
      ]
     },
     "execution_count": 279,
     "metadata": {},
     "output_type": "execute_result"
    }
   ],
   "source": [
    "win.callOnFlip(print_string, string='Helloword')\n",
    "win.flip()"
   ]
  },
  {
   "cell_type": "markdown",
   "metadata": {},
   "source": [
    "## data"
   ]
  },
  {
   "cell_type": "markdown",
   "metadata": {},
   "source": [
    "### data.ExperimentHandler"
   ]
  },
  {
   "cell_type": "code",
   "execution_count": null,
   "metadata": {},
   "outputs": [],
   "source": []
  },
  {
   "cell_type": "code",
   "execution_count": null,
   "metadata": {},
   "outputs": [],
   "source": []
  }
 ],
 "metadata": {
  "kernelspec": {
   "display_name": "Python 3",
   "language": "python",
   "name": "python3"
  },
  "language_info": {
   "codemirror_mode": {
    "name": "ipython",
    "version": 3
   },
   "file_extension": ".py",
   "mimetype": "text/x-python",
   "name": "python",
   "nbconvert_exporter": "python",
   "pygments_lexer": "ipython3",
   "version": "3.6.9"
  },
  "toc": {
   "base_numbering": 1,
   "nav_menu": {},
   "number_sections": false,
   "sideBar": true,
   "skip_h1_title": false,
   "title_cell": "Table of Contents",
   "title_sidebar": "Contents",
   "toc_cell": false,
   "toc_position": {
    "height": "calc(100% - 180px)",
    "left": "10px",
    "top": "150px",
    "width": "222px"
   },
   "toc_section_display": true,
   "toc_window_display": true
  }
 },
 "nbformat": 4,
 "nbformat_minor": 2
}
