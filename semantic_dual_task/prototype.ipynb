{
 "cells": [
  {
   "cell_type": "markdown",
   "metadata": {},
   "source": [
    "## Pseudo-code"
   ]
  },
  {
   "cell_type": "code",
   "execution_count": 2,
   "metadata": {
    "ExecuteTime": {
     "end_time": "2020-03-05T02:54:16.588568Z",
     "start_time": "2020-03-05T02:54:16.582024Z"
    }
   },
   "outputs": [],
   "source": [
    "# setup\n",
    "# (x) randomly pick 300 words from ../vocab.txt (this will be given by Julia)\n",
    "# (x) save that as a txt file, one line per word\n",
    "# (x) generate a list containing 2500-3500ms (include start and end) in 250ms intervals\n",
    "# (x) write a python function (inside) that 1) load 2) randomize and 3) return a list of 4 lists of 75 words\n",
    "# (x) write a python function (inside) that randomly pick a interstimuli time"
   ]
  },
  {
   "cell_type": "code",
   "execution_count": 3,
   "metadata": {
    "ExecuteTime": {
     "end_time": "2020-03-05T02:54:16.609454Z",
     "start_time": "2020-03-05T02:54:16.593518Z"
    }
   },
   "outputs": [],
   "source": [
    "import time\n",
    "import keyboard\n",
    "import numpy as np\n",
    "import sys\n",
    "sys.path.append('../scripts/')\n",
    "import time_util as tu\n",
    "from psychopy.hardware import keyboard\n",
    "import ipywidgets as widgets\n",
    "import IPython.display as ipd\n",
    "import threading"
   ]
  },
  {
   "cell_type": "markdown",
   "metadata": {},
   "source": [
    "## Setup"
   ]
  },
  {
   "cell_type": "code",
   "execution_count": 4,
   "metadata": {
    "ExecuteTime": {
     "end_time": "2020-03-05T02:54:16.618257Z",
     "start_time": "2020-03-05T02:54:16.612106Z"
    }
   },
   "outputs": [],
   "source": [
    "kNUM_WORDS_PER_COND = 75\n",
    "kNUM_CONDS = 4"
   ]
  },
  {
   "cell_type": "markdown",
   "metadata": {},
   "source": [
    "Tasks:\n",
    "- randomly pick 300 words from ../vocab.txt (this will be given by Julia)\n",
    "- save that as a txt file, one line per word"
   ]
  },
  {
   "cell_type": "code",
   "execution_count": 5,
   "metadata": {
    "ExecuteTime": {
     "end_time": "2020-03-05T02:54:16.633970Z",
     "start_time": "2020-03-05T02:54:16.622007Z"
    }
   },
   "outputs": [],
   "source": [
    "with open('../vocab.txt', 'r') as txt_f:\n",
    "    words = [word.rstrip() for word in txt_f.readlines()]"
   ]
  },
  {
   "cell_type": "code",
   "execution_count": 6,
   "metadata": {
    "ExecuteTime": {
     "end_time": "2020-03-05T02:54:16.647286Z",
     "start_time": "2020-03-05T02:54:16.640392Z"
    }
   },
   "outputs": [],
   "source": [
    "np.random.seed(1)\n",
    "sdt_words = np.random.choice(words, size=300)"
   ]
  },
  {
   "cell_type": "code",
   "execution_count": 7,
   "metadata": {
    "ExecuteTime": {
     "end_time": "2020-03-05T02:54:16.656323Z",
     "start_time": "2020-03-05T02:54:16.649925Z"
    }
   },
   "outputs": [],
   "source": [
    "with open('sdt_vocab.txt', 'w+') as txt_f:\n",
    "    for word in sdt_words:\n",
    "        txt_f.write(word + '\\n')"
   ]
  },
  {
   "cell_type": "code",
   "execution_count": 8,
   "metadata": {
    "ExecuteTime": {
     "end_time": "2020-03-05T02:54:16.665871Z",
     "start_time": "2020-03-05T02:54:16.660251Z"
    }
   },
   "outputs": [],
   "source": [
    "def get_word_lists(sdt_vocab_fpath):\n",
    "    with open(sdt_vocab_fpath, 'r') as txt_f:\n",
    "        words = [word.rstrip() for word in txt_f.readlines()]\n",
    "    np.random.shuffle(words)\n",
    "    return np.split(np.array(words), kNUM_CONDS)"
   ]
  },
  {
   "cell_type": "code",
   "execution_count": 9,
   "metadata": {
    "ExecuteTime": {
     "end_time": "2020-03-05T02:54:16.673510Z",
     "start_time": "2020-03-05T02:54:16.668525Z"
    }
   },
   "outputs": [],
   "source": [
    "word_lists = get_word_lists('sdt_vocab.txt')"
   ]
  },
  {
   "cell_type": "markdown",
   "metadata": {},
   "source": [
    "Tasks:\n",
    "- generate a list containing 2500-3500ms (include start and end) in 250ms intervals\n",
    "- save that as a json file"
   ]
  },
  {
   "cell_type": "code",
   "execution_count": 10,
   "metadata": {
    "ExecuteTime": {
     "end_time": "2020-03-05T02:54:16.678699Z",
     "start_time": "2020-03-05T02:54:16.675008Z"
    }
   },
   "outputs": [],
   "source": [
    "def get_interstim_intervals_for_all(size=300):\n",
    "    choices = np.arange(2500, 3500 + 1, 250)\n",
    "    return np.random.choice(choices, size=size)"
   ]
  },
  {
   "cell_type": "code",
   "execution_count": 11,
   "metadata": {
    "ExecuteTime": {
     "end_time": "2020-03-05T02:54:16.694762Z",
     "start_time": "2020-03-05T02:54:16.681928Z"
    }
   },
   "outputs": [
    {
     "data": {
      "text/plain": [
       "array([2750, 3000, 3500, 3250, 3000, 3250, 3250, 3000, 3250, 2500])"
      ]
     },
     "execution_count": 11,
     "metadata": {},
     "output_type": "execute_result"
    }
   ],
   "source": [
    "get_interstim_intervals_for_all()[:10]"
   ]
  },
  {
   "cell_type": "code",
   "execution_count": 12,
   "metadata": {
    "ExecuteTime": {
     "end_time": "2020-03-05T02:54:16.701434Z",
     "start_time": "2020-03-05T02:54:16.696348Z"
    }
   },
   "outputs": [
    {
     "data": {
      "text/plain": [
       "300"
      ]
     },
     "execution_count": 12,
     "metadata": {},
     "output_type": "execute_result"
    }
   ],
   "source": [
    "len(get_interstim_intervals_for_all())"
   ]
  },
  {
   "cell_type": "markdown",
   "metadata": {},
   "source": [
    "## Experiment"
   ]
  },
  {
   "cell_type": "code",
   "execution_count": 13,
   "metadata": {
    "ExecuteTime": {
     "end_time": "2020-03-05T02:54:16.706303Z",
     "start_time": "2020-03-05T02:54:16.703372Z"
    }
   },
   "outputs": [],
   "source": [
    "# experiment:\n",
    "# kNUM_WORDS_PER_COND = 75\n",
    "# interstim_intervals = get_interstim_interval_for_all(size=300)\n",
    "# for i, condition in enumerate(randomize(noise_conditions)):\n",
    "#     word_list = word_lists[idx]\n",
    "#     for j, word in enumerate(word_list):\n",
    "#         print(word) <- timer starts\n",
    "#         make noun judgment <- takes no time\n",
    "#         record word presented, present time, interstimulus interval, response time <- takes no time\n",
    "#         time.sleep(interstim_intervals[i * kNUM_WORDS_PER_COND + j])"
   ]
  },
  {
   "cell_type": "code",
   "execution_count": 14,
   "metadata": {
    "ExecuteTime": {
     "end_time": "2020-03-05T02:54:16.714869Z",
     "start_time": "2020-03-05T02:54:16.709067Z"
    }
   },
   "outputs": [],
   "source": [
    "class Clock:\n",
    "    \n",
    "    @property\n",
    "    def now(self):\n",
    "        return time.time()"
   ]
  },
  {
   "cell_type": "code",
   "execution_count": 15,
   "metadata": {
    "ExecuteTime": {
     "end_time": "2020-03-05T02:54:16.726039Z",
     "start_time": "2020-03-05T02:54:16.718371Z"
    }
   },
   "outputs": [],
   "source": [
    "class Timer:\n",
    "    \n",
    "    def __init__(self):\n",
    "        self.start, self.end = None, None\n",
    "        \n",
    "    def record_start(self, time):\n",
    "        self.start = time\n",
    "        \n",
    "    def record_end(self, time):\n",
    "        self.end = time\n",
    "        \n",
    "    def get_duration(self):\n",
    "        return self.end - self.start"
   ]
  },
  {
   "cell_type": "code",
   "execution_count": 16,
   "metadata": {
    "ExecuteTime": {
     "end_time": "2020-03-05T02:54:16.734816Z",
     "start_time": "2020-03-05T02:54:16.730716Z"
    }
   },
   "outputs": [],
   "source": [
    "class TimerFactory:\n",
    "    \n",
    "    def get_new_timer(self):\n",
    "        return Timer()"
   ]
  },
  {
   "cell_type": "code",
   "execution_count": 22,
   "metadata": {
    "ExecuteTime": {
     "end_time": "2020-03-05T02:54:55.880285Z",
     "start_time": "2020-03-05T02:54:55.870155Z"
    }
   },
   "outputs": [],
   "source": [
    "class Experiment:\n",
    "    \n",
    "    def __init__(self):\n",
    "        self._running = True\n",
    "        self.resps = []\n",
    "        \n",
    "    def is_noun(self, temp):\n",
    "        self.resps.append(1)\n",
    "        \n",
    "    def terminate(self):\n",
    "        self._running = False\n",
    "    \n",
    "    def run(self, button):\n",
    "\n",
    "        clock = Clock()\n",
    "        timer_factory = TimerFactory()\n",
    "        timers = []\n",
    "\n",
    "        default_keyboard = keyboard.Keyboard()\n",
    "\n",
    "        noise_conds = ['1', '2', '3', '4']\n",
    "        interstim_intervals = get_interstim_intervals_for_all(size=300)\n",
    "\n",
    "        for i, cond in enumerate(noise_conds):\n",
    "            word_list = word_lists[i]\n",
    "            for j, word in enumerate(word_list):\n",
    "                \n",
    "                if self._running:\n",
    "\n",
    "                    resps_len_before = len(self.resps)\n",
    "\n",
    "                    max_resp_time = interstim_intervals[i * kNUM_WORDS_PER_COND + j]\n",
    "\n",
    "                    timer = timer_factory.get_new_timer()\n",
    "                    timer.start = clock.now\n",
    "\n",
    "                    print(word)\n",
    "                    ipd.display(button)\n",
    "                    time.sleep(max_resp_time / 1000)\n",
    "                    ipd.clear_output()\n",
    "\n",
    "                    resps_len_after = len(self.resps)\n",
    "\n",
    "                    if resps_len_after == resps_len_before:\n",
    "                        self.resps.append(0)\n",
    "                    elif resps_len_after - resps_len_before >= 2:\n",
    "                        self.resps = self.resps[:resps_len_before+1]\n",
    "\n",
    "                    print(self.resps)"
   ]
  },
  {
   "cell_type": "code",
   "execution_count": 23,
   "metadata": {
    "ExecuteTime": {
     "end_time": "2020-03-05T02:54:56.677946Z",
     "start_time": "2020-03-05T02:54:56.674634Z"
    }
   },
   "outputs": [],
   "source": [
    "sdt = Experiment()"
   ]
  },
  {
   "cell_type": "code",
   "execution_count": 24,
   "metadata": {
    "ExecuteTime": {
     "end_time": "2020-03-05T02:54:57.350648Z",
     "start_time": "2020-03-05T02:54:57.336160Z"
    }
   },
   "outputs": [
    {
     "name": "stdout",
     "output_type": "stream",
     "text": [
      "[0, 1, 1, 1, 1, 0, 0, 1]\n",
      "competitors\n"
     ]
    },
    {
     "data": {
      "application/vnd.jupyter.widget-view+json": {
       "model_id": "bb80939a81e34ae09fc06e9a5376e859",
       "version_major": 2,
       "version_minor": 0
      },
      "text/plain": [
       "Button(description='This is a noun!', layout=Layout(width='300px'), style=ButtonStyle())"
      ]
     },
     "metadata": {},
     "output_type": "display_data"
    }
   ],
   "source": [
    "button = widgets.Button(\n",
    "    description='This is a noun!',\n",
    "    layout={'width': '300px'}\n",
    ")\n",
    "button.on_click(sdt.is_noun)\n",
    "\n",
    "thread = threading.Thread(target=sdt.run, args=(button, ))\n",
    "thread.start()"
   ]
  },
  {
   "cell_type": "code",
   "execution_count": 21,
   "metadata": {
    "ExecuteTime": {
     "end_time": "2020-03-05T02:54:43.878083Z",
     "start_time": "2020-03-05T02:54:43.874789Z"
    }
   },
   "outputs": [],
   "source": [
    "sdt.terminate()\n",
    "thread.join()"
   ]
  },
  {
   "cell_type": "code",
   "execution_count": null,
   "metadata": {},
   "outputs": [],
   "source": []
  },
  {
   "cell_type": "code",
   "execution_count": null,
   "metadata": {},
   "outputs": [],
   "source": []
  },
  {
   "cell_type": "code",
   "execution_count": null,
   "metadata": {},
   "outputs": [],
   "source": []
  }
 ],
 "metadata": {
  "kernelspec": {
   "display_name": "Python 3",
   "language": "python",
   "name": "python3"
  },
  "language_info": {
   "codemirror_mode": {
    "name": "ipython",
    "version": 3
   },
   "file_extension": ".py",
   "mimetype": "text/x-python",
   "name": "python",
   "nbconvert_exporter": "python",
   "pygments_lexer": "ipython3",
   "version": "3.6.9"
  },
  "toc": {
   "base_numbering": 1,
   "nav_menu": {},
   "number_sections": false,
   "sideBar": true,
   "skip_h1_title": false,
   "title_cell": "Table of Contents",
   "title_sidebar": "Contents",
   "toc_cell": false,
   "toc_position": {},
   "toc_section_display": true,
   "toc_window_display": false
  }
 },
 "nbformat": 4,
 "nbformat_minor": 2
}
