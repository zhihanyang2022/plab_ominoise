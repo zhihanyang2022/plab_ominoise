{
 "cells": [
  {
   "cell_type": "markdown",
   "metadata": {},
   "source": [
    "## Pseudo-code"
   ]
  },
  {
   "cell_type": "code",
   "execution_count": 47,
   "metadata": {
    "ExecuteTime": {
     "end_time": "2020-03-04T23:22:39.123232Z",
     "start_time": "2020-03-04T23:22:39.114548Z"
    }
   },
   "outputs": [],
   "source": [
    "# setup\n",
    "# (x) randomly pick 300 words from ../vocab.txt (this will be given by Julia)\n",
    "# (x) save that as a txt file, one line per word\n",
    "# (x) generate a list containing 2500-3500ms (include start and end) in 250ms intervals\n",
    "# (x) write a python function (inside) that 1) load 2) randomize and 3) return a list of 4 lists of 75 words\n",
    "# (x) write a python function (inside) that randomly pick a interstimuli time"
   ]
  },
  {
   "cell_type": "code",
   "execution_count": 56,
   "metadata": {
    "ExecuteTime": {
     "end_time": "2020-03-04T23:23:25.579721Z",
     "start_time": "2020-03-04T23:23:25.576614Z"
    }
   },
   "outputs": [],
   "source": [
    "# experiment\n",
    "# kNUM_WORDS_PER_COND = 75\n",
    "# interstim_intervals = get_interstim_interval_for_all(size=300)\n",
    "# for i, condition in enumerate(randomize(noise_conditions)):\n",
    "#     word_list = word_lists[idx]\n",
    "#     for j, word in enumerate(word_list):\n",
    "#         print(word) <- timer starts\n",
    "#         make noun judgment <- takes no time\n",
    "#         record word presented, present time, interstimulus interval, response time <- takes no time\n",
    "#         time.sleep(interstim_intervals[i * kNUM_WORDS_PER_COND + j])"
   ]
  },
  {
   "cell_type": "code",
   "execution_count": 49,
   "metadata": {
    "ExecuteTime": {
     "end_time": "2020-03-04T23:22:39.520599Z",
     "start_time": "2020-03-04T23:22:39.516984Z"
    }
   },
   "outputs": [],
   "source": [
    "import numpy as np"
   ]
  },
  {
   "cell_type": "markdown",
   "metadata": {},
   "source": [
    "## Setup"
   ]
  },
  {
   "cell_type": "code",
   "execution_count": 61,
   "metadata": {
    "ExecuteTime": {
     "end_time": "2020-03-04T23:25:05.868826Z",
     "start_time": "2020-03-04T23:25:05.863524Z"
    }
   },
   "outputs": [],
   "source": [
    "kNUM_WORDS_PER_COND = 75\n",
    "kNUM_CONDS = 4"
   ]
  },
  {
   "cell_type": "markdown",
   "metadata": {},
   "source": [
    "Tasks:\n",
    "- randomly pick 300 words from ../vocab.txt (this will be given by Julia)\n",
    "- save that as a txt file, one line per word"
   ]
  },
  {
   "cell_type": "code",
   "execution_count": 50,
   "metadata": {
    "ExecuteTime": {
     "end_time": "2020-03-04T23:22:39.962935Z",
     "start_time": "2020-03-04T23:22:39.952824Z"
    }
   },
   "outputs": [],
   "source": [
    "with open('../vocab.txt', 'r') as txt_f:\n",
    "    words = [word.rstrip() for word in txt_f.readlines()]"
   ]
  },
  {
   "cell_type": "code",
   "execution_count": 51,
   "metadata": {
    "ExecuteTime": {
     "end_time": "2020-03-04T23:22:40.172899Z",
     "start_time": "2020-03-04T23:22:40.166958Z"
    }
   },
   "outputs": [],
   "source": [
    "np.random.seed(1)\n",
    "sdt_words = np.random.choice(words, size=300)"
   ]
  },
  {
   "cell_type": "code",
   "execution_count": 52,
   "metadata": {
    "ExecuteTime": {
     "end_time": "2020-03-04T23:22:40.433649Z",
     "start_time": "2020-03-04T23:22:40.419166Z"
    }
   },
   "outputs": [],
   "source": [
    "with open('sdt_vocab.txt', 'w+') as txt_f:\n",
    "    for word in sdt_words:\n",
    "        txt_f.write(word + '\\n')"
   ]
  },
  {
   "cell_type": "code",
   "execution_count": 62,
   "metadata": {
    "ExecuteTime": {
     "end_time": "2020-03-04T23:25:09.568104Z",
     "start_time": "2020-03-04T23:25:09.562519Z"
    }
   },
   "outputs": [],
   "source": [
    "def get_word_lists(sdt_vocab_fpath):\n",
    "    with open(sdt_vocab_fpath, 'r') as txt_f:\n",
    "        words = [word.rstrip() for word in txt_f.readlines()]\n",
    "    return np.split(np.array(words), kNUM_CONDS)"
   ]
  },
  {
   "cell_type": "code",
   "execution_count": 63,
   "metadata": {
    "ExecuteTime": {
     "end_time": "2020-03-04T23:25:18.797158Z",
     "start_time": "2020-03-04T23:25:18.788446Z"
    }
   },
   "outputs": [
    {
     "data": {
      "text/plain": [
       "[array(['ai', 'lips', 'berkeley', 'sanyo', 'education', 'leadership',\n",
       "        'administered', 'holdings', 'running', 'finder', 'updating',\n",
       "        'mambo', 'maintain', 'emergency', 'development', 'stamp', 'folder',\n",
       "        'jay', 'shipments', 'performer', 'ash', 'significance', 'entering',\n",
       "        'balloon', 'wearing', 'concept', 'brands', 'organizing', 'oak',\n",
       "        'boc', 'implementing', 'eden', 'formed', 'vessels', 'differences',\n",
       "        'th', 'polyphonic', 'anything', 'harley', 'arrivals', 'turbo',\n",
       "        'chamber', 'capitol', 'pump', 'supposed', 'circles', 'error',\n",
       "        'competitors', 'vienna', 'divide', 'abraham', 'cursor', 'sd',\n",
       "        'campbell', 'wisconsin', 'boobs', 'enter', 'british', 'vegetable',\n",
       "        'fifty', 'adopt', 'impacts', 'attitudes', 'vendors', 'retro',\n",
       "        'clinics', 're', 'selected', 'hand', 'airfare', 'carroll',\n",
       "        'bulletin', 'replace', 'latter', 'much'], dtype='<U13'),\n",
       " array(['longitude', 'jews', 'viagra', 'zip', 'eligible', 'mainstream',\n",
       "        'applicant', 'commerce', 'inspired', 'chamber', 'happened',\n",
       "        'awful', 'parameter', 'oo', 'dramatically', 'list', 'republic',\n",
       "        'borough', 'rotary', 'whale', 'zoning', 'gonna', 'playlist',\n",
       "        'rocks', 'activated', 'alexander', 'partial', 'belong', 'admitted',\n",
       "        'xl', 'exercises', 'tall', 'rubber', 'apt', 'admitted', 'ferrari',\n",
       "        'lafayette', 'creating', 'yeah', 'schedules', 'newer',\n",
       "        'developments', 'exposure', 'stones', 'quotes', 'absolute', 'pool',\n",
       "        'consisting', 'part', 'physicians', 'gsm', 'contributing',\n",
       "        'assure', 'mountain', 'compromise', 'equally', 'readers',\n",
       "        'advisors', 'pastor', 'frame', 'screenshots', 'subdivision',\n",
       "        'faced', 'readers', 'architecture', 'signals', 'licensing',\n",
       "        'meyer', 'larger', 'crest', 'salvation', 'throws', 'furniture',\n",
       "        'colleague', 'available'], dtype='<U13'),\n",
       " array(['constitute', 'milk', 'suggest', 'represents', 'desert',\n",
       "        'behavior', 'dui', 'oe', 'cylinder', 'douglas', 'mapping', 'chan',\n",
       "        'merchants', 'minimum', 'james', 'magazines', 'input', 'tomato',\n",
       "        'infections', 'beauty', 'merger', 'lime', 'rendering', 'stamps',\n",
       "        'aug', 'can', 'books', 'reproduction', 'acute', 'modelling',\n",
       "        'mixture', 'assignments', 'reduce', 'bear', 'sale', 'lynn',\n",
       "        'ultimately', 'princess', 'core', 'vault', 'cloth', 'sunshine',\n",
       "        'seen', 'mainland', 'study', 'certain', 'belgium', 'get', 'hindu',\n",
       "        'node', 'detector', 'mobility', 'reject', 'twice', 'comparisons',\n",
       "        'yemen', 'procurement', 'fonts', 'pacific', 'spaces', 'budapest',\n",
       "        'bt', 'inspection', 'morocco', 'moore', 'phil', 'victim',\n",
       "        'moreover', 'face', 'dana', 'automobiles', 'nov', 'verify',\n",
       "        'target', 'relief'], dtype='<U13'),\n",
       " array(['chat', 'ea', 'ist', 'limitations', 'ladder', 'crash',\n",
       "        'importance', 'school', 'formatting', 'fin', 'log', 'plugin',\n",
       "        'joke', 'admin', 'integrity', 'endangered', 'pursue', 'tax',\n",
       "        'muslims', 'noon', 'chosen', 'spank', 'destination', 'republic',\n",
       "        'independently', 'shine', 'consumption', 'punishment', 'journal',\n",
       "        'subsidiaries', 'tea', 'established', 'merchandise', 'lady',\n",
       "        'through', 'wing', 'atlantic', 'tiles', 'murder', 'cst', 'runtime',\n",
       "        'marc', 'associations', 'interracial', 'cordless', 'received',\n",
       "        'tall', 'harassment', 'submission', 'services', 'swedish', 'box',\n",
       "        'browser', 'distribution', 'sense', 'soa', 'techno', 'rentals',\n",
       "        'dakota', 'season', 'bugs', 'alto', 'determined', 'dynamic',\n",
       "        'expenditure', 'wanted', 'samples', 'hydrogen', 'reseller',\n",
       "        'syndicate', 'elsewhere', 'postings', 'wallpapers', 'peer', 'dude'],\n",
       "       dtype='<U13')]"
      ]
     },
     "execution_count": 63,
     "metadata": {},
     "output_type": "execute_result"
    }
   ],
   "source": [
    "get_word_lists('sdt_vocab.txt')"
   ]
  },
  {
   "cell_type": "markdown",
   "metadata": {},
   "source": [
    "Tasks:\n",
    "- generate a list containing 2500-3500ms (include start and end) in 250ms intervals\n",
    "- save that as a json file"
   ]
  },
  {
   "cell_type": "code",
   "execution_count": 53,
   "metadata": {
    "ExecuteTime": {
     "end_time": "2020-03-04T23:22:40.967726Z",
     "start_time": "2020-03-04T23:22:40.961901Z"
    }
   },
   "outputs": [],
   "source": [
    "def get_interstim_interval_for_all(size=300):\n",
    "    choices = np.arange(2500, 3500 + 1, 250)\n",
    "    return np.random.choice(choices, size=size)"
   ]
  },
  {
   "cell_type": "code",
   "execution_count": 54,
   "metadata": {
    "ExecuteTime": {
     "end_time": "2020-03-04T23:22:41.164318Z",
     "start_time": "2020-03-04T23:22:41.153993Z"
    }
   },
   "outputs": [
    {
     "data": {
      "text/plain": [
       "array([3500, 3500, 3000, 3000, 3250, 2750, 3500, 2500, 2500, 3250])"
      ]
     },
     "execution_count": 54,
     "metadata": {},
     "output_type": "execute_result"
    }
   ],
   "source": [
    "get_interstim_interval_for_all()[:10]"
   ]
  },
  {
   "cell_type": "code",
   "execution_count": 55,
   "metadata": {
    "ExecuteTime": {
     "end_time": "2020-03-04T23:22:41.461476Z",
     "start_time": "2020-03-04T23:22:41.455717Z"
    }
   },
   "outputs": [
    {
     "data": {
      "text/plain": [
       "300"
      ]
     },
     "execution_count": 55,
     "metadata": {},
     "output_type": "execute_result"
    }
   ],
   "source": [
    "len(get_interstim_interval_for_all())"
   ]
  },
  {
   "cell_type": "code",
   "execution_count": null,
   "metadata": {},
   "outputs": [],
   "source": []
  },
  {
   "cell_type": "code",
   "execution_count": null,
   "metadata": {},
   "outputs": [],
   "source": []
  },
  {
   "cell_type": "code",
   "execution_count": null,
   "metadata": {},
   "outputs": [],
   "source": []
  },
  {
   "cell_type": "code",
   "execution_count": null,
   "metadata": {},
   "outputs": [],
   "source": []
  },
  {
   "cell_type": "code",
   "execution_count": null,
   "metadata": {},
   "outputs": [],
   "source": []
  },
  {
   "cell_type": "code",
   "execution_count": null,
   "metadata": {},
   "outputs": [],
   "source": []
  },
  {
   "cell_type": "code",
   "execution_count": null,
   "metadata": {},
   "outputs": [],
   "source": []
  },
  {
   "cell_type": "code",
   "execution_count": null,
   "metadata": {},
   "outputs": [],
   "source": []
  },
  {
   "cell_type": "code",
   "execution_count": null,
   "metadata": {},
   "outputs": [],
   "source": []
  },
  {
   "cell_type": "code",
   "execution_count": null,
   "metadata": {},
   "outputs": [],
   "source": []
  },
  {
   "cell_type": "code",
   "execution_count": null,
   "metadata": {},
   "outputs": [],
   "source": []
  },
  {
   "cell_type": "code",
   "execution_count": null,
   "metadata": {},
   "outputs": [],
   "source": []
  },
  {
   "cell_type": "code",
   "execution_count": null,
   "metadata": {},
   "outputs": [],
   "source": []
  },
  {
   "cell_type": "code",
   "execution_count": null,
   "metadata": {},
   "outputs": [],
   "source": []
  },
  {
   "cell_type": "code",
   "execution_count": null,
   "metadata": {},
   "outputs": [],
   "source": []
  },
  {
   "cell_type": "code",
   "execution_count": null,
   "metadata": {},
   "outputs": [],
   "source": []
  },
  {
   "cell_type": "code",
   "execution_count": null,
   "metadata": {},
   "outputs": [],
   "source": []
  },
  {
   "cell_type": "code",
   "execution_count": null,
   "metadata": {},
   "outputs": [],
   "source": []
  },
  {
   "cell_type": "code",
   "execution_count": null,
   "metadata": {},
   "outputs": [],
   "source": []
  }
 ],
 "metadata": {
  "kernelspec": {
   "display_name": "Python 3",
   "language": "python",
   "name": "python3"
  },
  "language_info": {
   "codemirror_mode": {
    "name": "ipython",
    "version": 3
   },
   "file_extension": ".py",
   "mimetype": "text/x-python",
   "name": "python",
   "nbconvert_exporter": "python",
   "pygments_lexer": "ipython3",
   "version": "3.6.9"
  },
  "toc": {
   "base_numbering": 1,
   "nav_menu": {},
   "number_sections": false,
   "sideBar": true,
   "skip_h1_title": false,
   "title_cell": "Table of Contents",
   "title_sidebar": "Contents",
   "toc_cell": false,
   "toc_position": {},
   "toc_section_display": true,
   "toc_window_display": true
  }
 },
 "nbformat": 4,
 "nbformat_minor": 2
}
