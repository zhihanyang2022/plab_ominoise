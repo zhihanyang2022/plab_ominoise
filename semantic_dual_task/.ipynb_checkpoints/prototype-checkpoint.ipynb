{
 "cells": [
  {
   "cell_type": "markdown",
   "metadata": {},
   "source": [
    "## Pseudo-code"
   ]
  },
  {
   "cell_type": "code",
   "execution_count": 10,
   "metadata": {
    "ExecuteTime": {
     "end_time": "2020-03-05T02:47:40.813396Z",
     "start_time": "2020-03-05T02:47:40.810100Z"
    }
   },
   "outputs": [],
   "source": [
    "# setup\n",
    "# (x) randomly pick 300 words from ../vocab.txt (this will be given by Julia)\n",
    "# (x) save that as a txt file, one line per word\n",
    "# (x) generate a list containing 2500-3500ms (include start and end) in 250ms intervals\n",
    "# (x) write a python function (inside) that 1) load 2) randomize and 3) return a list of 4 lists of 75 words\n",
    "# (x) write a python function (inside) that randomly pick a interstimuli time"
   ]
  },
  {
   "cell_type": "code",
   "execution_count": 1,
   "metadata": {
    "ExecuteTime": {
     "end_time": "2020-03-05T02:54:02.650827Z",
     "start_time": "2020-03-05T02:54:00.660900Z"
    }
   },
   "outputs": [
    {
     "name": "stdout",
     "output_type": "stream",
     "text": [
      "pygame 2.0.0.dev3 (SDL 2.0.9, python 3.6.9)\n",
      "Hello from the pygame community. https://www.pygame.org/contribute.html\n"
     ]
    }
   ],
   "source": [
    "import time\n",
    "import keyboard\n",
    "import numpy as np\n",
    "import sys\n",
    "sys.path.append('../scripts/')\n",
    "import time_util as tu\n",
    "from psychopy.hardware import keyboard\n",
    "import ipywidgets as widgets\n",
    "import IPython.display as ipd\n",
    "import threading"
   ]
  },
  {
   "cell_type": "markdown",
   "metadata": {},
   "source": [
    "## Setup"
   ]
  },
  {
   "cell_type": "code",
   "execution_count": 12,
   "metadata": {
    "ExecuteTime": {
     "end_time": "2020-03-05T02:47:44.541748Z",
     "start_time": "2020-03-05T02:47:44.530628Z"
    }
   },
   "outputs": [],
   "source": [
    "kNUM_WORDS_PER_COND = 75\n",
    "kNUM_CONDS = 4"
   ]
  },
  {
   "cell_type": "markdown",
   "metadata": {},
   "source": [
    "Tasks:\n",
    "- randomly pick 300 words from ../vocab.txt (this will be given by Julia)\n",
    "- save that as a txt file, one line per word"
   ]
  },
  {
   "cell_type": "code",
   "execution_count": 13,
   "metadata": {
    "ExecuteTime": {
     "end_time": "2020-03-05T02:47:44.562372Z",
     "start_time": "2020-03-05T02:47:44.545702Z"
    }
   },
   "outputs": [],
   "source": [
    "with open('../vocab.txt', 'r') as txt_f:\n",
    "    words = [word.rstrip() for word in txt_f.readlines()]"
   ]
  },
  {
   "cell_type": "code",
   "execution_count": 14,
   "metadata": {
    "ExecuteTime": {
     "end_time": "2020-03-05T02:47:44.573660Z",
     "start_time": "2020-03-05T02:47:44.565770Z"
    }
   },
   "outputs": [],
   "source": [
    "np.random.seed(1)\n",
    "sdt_words = np.random.choice(words, size=300)"
   ]
  },
  {
   "cell_type": "code",
   "execution_count": 15,
   "metadata": {
    "ExecuteTime": {
     "end_time": "2020-03-05T02:47:44.580681Z",
     "start_time": "2020-03-05T02:47:44.575782Z"
    }
   },
   "outputs": [],
   "source": [
    "with open('sdt_vocab.txt', 'w+') as txt_f:\n",
    "    for word in sdt_words:\n",
    "        txt_f.write(word + '\\n')"
   ]
  },
  {
   "cell_type": "code",
   "execution_count": 16,
   "metadata": {
    "ExecuteTime": {
     "end_time": "2020-03-05T02:47:44.589110Z",
     "start_time": "2020-03-05T02:47:44.583299Z"
    }
   },
   "outputs": [],
   "source": [
    "def get_word_lists(sdt_vocab_fpath):\n",
    "    with open(sdt_vocab_fpath, 'r') as txt_f:\n",
    "        words = [word.rstrip() for word in txt_f.readlines()]\n",
    "    np.random.shuffle(words)\n",
    "    return np.split(np.array(words), kNUM_CONDS)"
   ]
  },
  {
   "cell_type": "code",
   "execution_count": 17,
   "metadata": {
    "ExecuteTime": {
     "end_time": "2020-03-05T02:47:44.595914Z",
     "start_time": "2020-03-05T02:47:44.591308Z"
    }
   },
   "outputs": [],
   "source": [
    "word_lists = get_word_lists('sdt_vocab.txt')"
   ]
  },
  {
   "cell_type": "markdown",
   "metadata": {},
   "source": [
    "Tasks:\n",
    "- generate a list containing 2500-3500ms (include start and end) in 250ms intervals\n",
    "- save that as a json file"
   ]
  },
  {
   "cell_type": "code",
   "execution_count": 18,
   "metadata": {
    "ExecuteTime": {
     "end_time": "2020-03-05T02:47:44.606886Z",
     "start_time": "2020-03-05T02:47:44.599702Z"
    }
   },
   "outputs": [],
   "source": [
    "def get_interstim_intervals_for_all(size=300):\n",
    "    choices = np.arange(2500, 3500 + 1, 250)\n",
    "    return np.random.choice(choices, size=size)"
   ]
  },
  {
   "cell_type": "code",
   "execution_count": 19,
   "metadata": {
    "ExecuteTime": {
     "end_time": "2020-03-05T02:47:44.626593Z",
     "start_time": "2020-03-05T02:47:44.611711Z"
    }
   },
   "outputs": [
    {
     "data": {
      "text/plain": [
       "array([2750, 3000, 3500, 3250, 3000, 3250, 3250, 3000, 3250, 2500])"
      ]
     },
     "execution_count": 19,
     "metadata": {},
     "output_type": "execute_result"
    }
   ],
   "source": [
    "get_interstim_intervals_for_all()[:10]"
   ]
  },
  {
   "cell_type": "code",
   "execution_count": 20,
   "metadata": {
    "ExecuteTime": {
     "end_time": "2020-03-05T02:47:44.640899Z",
     "start_time": "2020-03-05T02:47:44.629341Z"
    }
   },
   "outputs": [
    {
     "data": {
      "text/plain": [
       "300"
      ]
     },
     "execution_count": 20,
     "metadata": {},
     "output_type": "execute_result"
    }
   ],
   "source": [
    "len(get_interstim_intervals_for_all())"
   ]
  },
  {
   "cell_type": "markdown",
   "metadata": {},
   "source": [
    "## Experiment"
   ]
  },
  {
   "cell_type": "code",
   "execution_count": 21,
   "metadata": {
    "ExecuteTime": {
     "end_time": "2020-03-05T02:47:44.649339Z",
     "start_time": "2020-03-05T02:47:44.643691Z"
    }
   },
   "outputs": [],
   "source": [
    "# experiment:\n",
    "# kNUM_WORDS_PER_COND = 75\n",
    "# interstim_intervals = get_interstim_interval_for_all(size=300)\n",
    "# for i, condition in enumerate(randomize(noise_conditions)):\n",
    "#     word_list = word_lists[idx]\n",
    "#     for j, word in enumerate(word_list):\n",
    "#         print(word) <- timer starts\n",
    "#         make noun judgment <- takes no time\n",
    "#         record word presented, present time, interstimulus interval, response time <- takes no time\n",
    "#         time.sleep(interstim_intervals[i * kNUM_WORDS_PER_COND + j])"
   ]
  },
  {
   "cell_type": "code",
   "execution_count": 22,
   "metadata": {
    "ExecuteTime": {
     "end_time": "2020-03-05T02:47:44.658312Z",
     "start_time": "2020-03-05T02:47:44.652336Z"
    }
   },
   "outputs": [],
   "source": [
    "class Clock:\n",
    "    \n",
    "    @property\n",
    "    def now(self):\n",
    "        return time.time()"
   ]
  },
  {
   "cell_type": "code",
   "execution_count": 23,
   "metadata": {
    "ExecuteTime": {
     "end_time": "2020-03-05T02:47:44.671613Z",
     "start_time": "2020-03-05T02:47:44.662365Z"
    }
   },
   "outputs": [],
   "source": [
    "class Timer:\n",
    "    \n",
    "    def __init__(self):\n",
    "        self.start, self.end = None, None\n",
    "        \n",
    "    def record_start(self, time):\n",
    "        self.start = time\n",
    "        \n",
    "    def record_end(self, time):\n",
    "        self.end = time\n",
    "        \n",
    "    def get_duration(self):\n",
    "        return self.end - self.start"
   ]
  },
  {
   "cell_type": "code",
   "execution_count": 24,
   "metadata": {
    "ExecuteTime": {
     "end_time": "2020-03-05T02:47:44.681147Z",
     "start_time": "2020-03-05T02:47:44.675610Z"
    }
   },
   "outputs": [],
   "source": [
    "class TimerFactory:\n",
    "    \n",
    "    def get_new_timer(self):\n",
    "        return Timer()"
   ]
  },
  {
   "cell_type": "code",
   "execution_count": 42,
   "metadata": {
    "ExecuteTime": {
     "end_time": "2020-03-05T02:51:09.197623Z",
     "start_time": "2020-03-05T02:51:09.187445Z"
    }
   },
   "outputs": [],
   "source": [
    "class Experiment:\n",
    "    \n",
    "    def __init__(self):\n",
    "        self._running = True\n",
    "        self.resps = []\n",
    "        \n",
    "    def is_noun(self):\n",
    "        self.resps.append(1)\n",
    "        \n",
    "    def terminate(self):\n",
    "        self._running = False\n",
    "    \n",
    "    def run(self, button):\n",
    "\n",
    "        clock = Clock()\n",
    "        timer_factory = TimerFactory()\n",
    "        timers = []\n",
    "\n",
    "        default_keyboard = keyboard.Keyboard()\n",
    "\n",
    "        noise_conds = ['1', '2', '3', '4']\n",
    "        interstim_intervals = get_interstim_intervals_for_all(size=300)\n",
    "\n",
    "        for i, cond in enumerate(noise_conds):\n",
    "            word_list = word_lists[i]\n",
    "            for j, word in enumerate(word_list):\n",
    "                \n",
    "                if self._running:\n",
    "\n",
    "                    resps_len_before = len(self.resps)\n",
    "\n",
    "                    max_resp_time = interstim_intervals[i * kNUM_WORDS_PER_COND + j]\n",
    "\n",
    "                    timer = timer_factory.get_new_timer()\n",
    "                    timer.start = clock.now\n",
    "\n",
    "                    print(word)\n",
    "                    ipd.display(button)\n",
    "                    time.sleep(max_resp_time / 1000)\n",
    "                    ipd.clear_output()\n",
    "\n",
    "                    resps_len_after = len(self.resps)\n",
    "\n",
    "                    if resps_len_after == resps_len_before:\n",
    "                        self.resps.append(0)\n",
    "                    elif resps_len_after - resps_len_before >= 2:\n",
    "                        self.resps = self.resps[:resps_len_before+1]\n",
    "\n",
    "                    print(self.resps)"
   ]
  },
  {
   "cell_type": "code",
   "execution_count": 49,
   "metadata": {
    "ExecuteTime": {
     "end_time": "2020-03-05T02:51:21.167698Z",
     "start_time": "2020-03-05T02:51:21.164440Z"
    }
   },
   "outputs": [],
   "source": [
    "sdt = Experiment()"
   ]
  },
  {
   "cell_type": "code",
   "execution_count": 64,
   "metadata": {
    "ExecuteTime": {
     "end_time": "2020-03-05T02:52:23.791137Z",
     "start_time": "2020-03-05T02:52:23.777148Z"
    }
   },
   "outputs": [],
   "source": [
    "button = widgets.Button(\n",
    "    description='This is a noun!',\n",
    "    layout={'width': '300px'}\n",
    ")\n",
    "button.on_click(sdt.is_noun)\n",
    "\n",
    "thread = threading.Thread(target=sdt.run, args=(button, ))\n",
    "thread.start()"
   ]
  },
  {
   "cell_type": "code",
   "execution_count": 65,
   "metadata": {
    "ExecuteTime": {
     "end_time": "2020-03-05T02:52:25.619322Z",
     "start_time": "2020-03-05T02:52:25.613884Z"
    }
   },
   "outputs": [
    {
     "name": "stdout",
     "output_type": "stream",
     "text": [
      "[0, 0, 0, 0, 0, 0, 0, 0, 0, 0, 0, 0, 0, 0, 0, 0, 0, 0, 0, 0, 0, 0, 0, 0, 0, 0, 0, 0, 0, 0, 0, 0, 0, 0, 0, 0, 0, 0, 0, 0, 0, 0, 0, 0, 0, 0, 0, 0, 0, 0, 0, 0, 0, 0, 0, 0, 0, 0, 0, 0, 0, 0, 0, 0, 0, 0, 0, 0, 0, 0, 0, 0, 0, 0, 0, 0, 0, 0, 0, 0]\n",
      "node\n"
     ]
    },
    {
     "data": {
      "application/vnd.jupyter.widget-view+json": {
       "model_id": "a06741c188324fc9a530d9595bd5c3d9",
       "version_major": 2,
       "version_minor": 0
      },
      "text/plain": [
       "Button(description='This is a noun!', layout=Layout(width='300px'), style=ButtonStyle())"
      ]
     },
     "metadata": {},
     "output_type": "display_data"
    }
   ],
   "source": [
    "sdt.terminate()\n",
    "thread.join()"
   ]
  },
  {
   "cell_type": "code",
   "execution_count": null,
   "metadata": {},
   "outputs": [],
   "source": []
  },
  {
   "cell_type": "code",
   "execution_count": null,
   "metadata": {},
   "outputs": [],
   "source": []
  },
  {
   "cell_type": "code",
   "execution_count": null,
   "metadata": {},
   "outputs": [],
   "source": []
  }
 ],
 "metadata": {
  "kernelspec": {
   "display_name": "Python 3",
   "language": "python",
   "name": "python3"
  },
  "language_info": {
   "codemirror_mode": {
    "name": "ipython",
    "version": 3
   },
   "file_extension": ".py",
   "mimetype": "text/x-python",
   "name": "python",
   "nbconvert_exporter": "python",
   "pygments_lexer": "ipython3",
   "version": "3.6.9"
  },
  "toc": {
   "base_numbering": 1,
   "nav_menu": {},
   "number_sections": false,
   "sideBar": true,
   "skip_h1_title": false,
   "title_cell": "Table of Contents",
   "title_sidebar": "Contents",
   "toc_cell": false,
   "toc_position": {},
   "toc_section_display": true,
   "toc_window_display": false
  }
 },
 "nbformat": 4,
 "nbformat_minor": 2
}
